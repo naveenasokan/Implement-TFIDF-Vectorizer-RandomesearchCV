{
 "cells": [
  {
   "cell_type": "markdown",
   "metadata": {
    "id": "IvLvmewlxLix"
   },
   "source": [
    "<font face='georgia'>\n",
    "    \n",
    "   <h4><strong>What does tf-idf mean?</strong></h4>\n",
    "\n",
    "   <p>    \n",
    "Tf-idf stands for <em>term frequency-inverse document frequency</em>, and the tf-idf weight is a weight often used in information retrieval and text mining. This weight is a statistical measure used to evaluate how important a word is to a document in a collection or corpus. The importance increases proportionally to the number of times a word appears in the document but is offset by the frequency of the word in the corpus. Variations of the tf-idf weighting scheme are often used by search engines as a central tool in scoring and ranking a document's relevance given a user query.\n",
    "</p>\n",
    "    \n",
    "   <p>\n",
    "One of the simplest ranking functions is computed by summing the tf-idf for each query term; many more sophisticated ranking functions are variants of this simple model.\n",
    "</p>\n",
    "    \n",
    "   <p>\n",
    "Tf-idf can be successfully used for stop-words filtering in various subject fields including text summarization and classification.\n",
    "</p>\n",
    "    \n",
    "</font>"
   ]
  },
  {
   "cell_type": "markdown",
   "metadata": {
    "id": "4XLaGFUMxLiy"
   },
   "source": [
    "<font face='georgia'>\n",
    "    <h4><strong>How to Compute:</strong></h4>\n",
    "\n",
    "Typically, the tf-idf weight is composed by two terms: the first computes the normalized Term Frequency (TF), aka. the number of times a word appears in a document, divided by the total number of words in that document; the second term is the Inverse Document Frequency (IDF), computed as the logarithm of the number of the documents in the corpus divided by the number of documents where the specific term appears.\n",
    "\n",
    " <ul>\n",
    "    <li>\n",
    "<strong>TF:</strong> Term Frequency, which measures how frequently a term occurs in a document. Since every document is different in length, it is possible that a term would appear much more times in long documents than shorter ones. Thus, the term frequency is often divided by the document length (aka. the total number of terms in the document) as a way of normalization: <br>\n",
    "\n",
    "$TF(t) = \\frac{\\text{Number of times term t appears in a document}}{\\text{Total number of terms in the document}}.$\n",
    "</li>\n",
    "<li>\n",
    "<strong>IDF:</strong> Inverse Document Frequency, which measures how important a term is. While computing TF, all terms are considered equally important. However it is known that certain terms, such as \"is\", \"of\", and \"that\", may appear a lot of times but have little importance. Thus we need to weigh down the frequent terms while scale up the rare ones, by computing the following: <br>\n",
    "\n",
    "$IDF(t) = \\log_{e}\\frac{\\text{Total  number of documents}} {\\text{Number of documents with term t in it}}.$\n",
    "for numerical stabiltiy we will be changing this formula little bit\n",
    "$IDF(t) = \\log_{e}\\frac{\\text{Total  number of documents}} {\\text{Number of documents with term t in it}+1}.$\n",
    "</li>\n",
    "</ul>\n",
    "\n",
    "<br>\n",
    "<h4><strong>Example</strong></h4>\n",
    "<p>\n",
    "\n",
    "Consider a document containing 100 words wherein the word cat appears 3 times. The term frequency (i.e., tf) for cat is then (3 / 100) = 0.03. Now, assume we have 10 million documents and the word cat appears in one thousand of these. Then, the inverse document frequency (i.e., idf) is calculated as log(10,000,000 / 1,000) = 4. Thus, the Tf-idf weight is the product of these quantities: 0.03 * 4 = 0.12.\n",
    "</p>\n",
    "</font>"
   ]
  },
  {
   "cell_type": "markdown",
   "metadata": {
    "id": "OnV82tg1xLi0"
   },
   "source": [
    "### Corpus"
   ]
  },
  {
   "cell_type": "code",
   "execution_count": null,
   "metadata": {
    "id": "bUsYm9wjxLi1"
   },
   "outputs": [],
   "source": [
    "## SkLearn# Collection of string documents\n",
    "\n",
    "corpus = [\n",
    "     'this is the first document',\n",
    "     'this document is the second document',\n",
    "     'and this is the third one',\n",
    "     'is this the first document',\n",
    "]"
   ]
  },
  {
   "cell_type": "markdown",
   "metadata": {
    "id": "eLwmFZfKxLi4"
   },
   "source": [
    "### SkLearn Implementation"
   ]
  },
  {
   "cell_type": "code",
   "execution_count": null,
   "metadata": {
    "id": "Np4dfQOkxLi4"
   },
   "outputs": [],
   "source": [
    "from sklearn.feature_extraction.text import TfidfVectorizer\n",
    "vectorizer = TfidfVectorizer()\n",
    "vectorizer.fit(corpus)\n",
    "skl_output = vectorizer.transform(corpus)"
   ]
  },
  {
   "cell_type": "code",
   "execution_count": null,
   "metadata": {
    "id": "-7Om8YpYxLi6",
    "outputId": "0a3bd0f5-4424-4400-944f-4482a80bd799"
   },
   "outputs": [
    {
     "name": "stdout",
     "output_type": "stream",
     "text": [
      "['and', 'document', 'first', 'is', 'one', 'second', 'the', 'third', 'this']\n"
     ]
    }
   ],
   "source": [
    "# sklearn feature names, they are sorted in alphabetic order by default.\n",
    "\n",
    "print(vectorizer.get_feature_names())"
   ]
  },
  {
   "cell_type": "code",
   "execution_count": null,
   "metadata": {
    "id": "dTKplK96xLi-",
    "outputId": "53722fa2-6756-4aa0-f179-37b578bb6890"
   },
   "outputs": [
    {
     "name": "stdout",
     "output_type": "stream",
     "text": [
      "[1.91629073 1.22314355 1.51082562 1.         1.91629073 1.91629073\n",
      " 1.         1.91629073 1.        ]\n"
     ]
    }
   ],
   "source": [
    "# Here we will print the sklearn tfidf vectorizer idf values after applying the fit method\n",
    "# After using the fit function on the corpus the vocab has 9 words in it, and each has its idf value.\n",
    "\n",
    "print(vectorizer.idf_)"
   ]
  },
  {
   "cell_type": "code",
   "execution_count": null,
   "metadata": {
    "id": "-CTiWHygxLjA",
    "outputId": "8d5a9cde-2c29-4afe-f7b4-1547e88dba4f"
   },
   "outputs": [
    {
     "data": {
      "text/plain": [
       "(4, 9)"
      ]
     },
     "execution_count": 5,
     "metadata": {
      "tags": []
     },
     "output_type": "execute_result"
    }
   ],
   "source": [
    "# shape of sklearn tfidf vectorizer output after applying transform method.\n",
    "\n",
    "skl_output.shape"
   ]
  },
  {
   "cell_type": "code",
   "execution_count": null,
   "metadata": {
    "id": "bDKEpbA-xLjD",
    "outputId": "87dafd65-5313-443f-8c6e-1b05cc8c2543"
   },
   "outputs": [
    {
     "name": "stdout",
     "output_type": "stream",
     "text": [
      "  (0, 8)\t0.38408524091481483\n",
      "  (0, 6)\t0.38408524091481483\n",
      "  (0, 3)\t0.38408524091481483\n",
      "  (0, 2)\t0.5802858236844359\n",
      "  (0, 1)\t0.46979138557992045\n"
     ]
    }
   ],
   "source": [
    "# sklearn tfidf values for first line of the above corpus.\n",
    "# Here the output is a sparse matrix\n",
    "\n",
    "print(skl_output[0])"
   ]
  },
  {
   "cell_type": "code",
   "execution_count": null,
   "metadata": {
    "id": "3QWo34hexLjF",
    "outputId": "cdc04e08-989f-4bdc-dd7f-f1c82a9f90be"
   },
   "outputs": [
    {
     "name": "stdout",
     "output_type": "stream",
     "text": [
      "[[0.         0.46979139 0.58028582 0.38408524 0.         0.\n",
      "  0.38408524 0.         0.38408524]]\n"
     ]
    }
   ],
   "source": [
    "# sklearn tfidf values for first line of the above corpus.\n",
    "# To understand the output better, here we are converting the sparse output matrix to dense matrix and printing it.\n",
    "# Notice that this output is normalized using L2 normalization. sklearn does this by default.\n",
    "\n",
    "print(skl_output[0].toarray())"
   ]
  },
  {
   "cell_type": "markdown",
   "metadata": {
    "id": "qfIwx5LzxLjI"
   },
   "source": [
    "### Your custom implementation"
   ]
  },
  {
   "cell_type": "code",
   "execution_count": null,
   "metadata": {
    "id": "HjuCcJwXxLjJ"
   },
   "outputs": [],
   "source": [
    "# Write your code here.\n",
    "# Make sure its well documented and readble with appropriate comments.\n",
    "# Compare your results with the above sklearn tfidf vectorizer\n",
    "# You are not supposed to use any other library apart from the ones given below\n",
    "\n",
    "from collections import Counter\n",
    "from scipy.sparse import csr_matrix\n",
    "import math\n",
    "import operator\n",
    "from sklearn.preprocessing import normalize\n",
    "import numpy\n"
   ]
  },
  {
   "cell_type": "markdown",
   "metadata": {
    "id": "mns4dhfGwUbz"
   },
   "source": [
    "step 1:Implementing the fit method and transform method:"
   ]
  },
  {
   "cell_type": "code",
   "execution_count": null,
   "metadata": {
    "id": "OXK1rpr6wUb2"
   },
   "outputs": [],
   "source": [
    "from tqdm import tqdm \n",
    "def fit(dataset):    \n",
    "    unique_words = set() \n",
    "    if isinstance(dataset, (list,)):\n",
    "        for row in dataset: \n",
    "            for word in row.split(\" \"): \n",
    "                if len(word) < 2:\n",
    "                    continue\n",
    "                unique_words.add(word)\n",
    "        unique_words = sorted(list(unique_words))\n",
    "        vocab = {j:i for i,j in enumerate(unique_words)}\n",
    "        return vocab\n",
    "    else:\n",
    "        print(\"you need to pass list of sentance\")"
   ]
  },
  {
   "cell_type": "code",
   "execution_count": null,
   "metadata": {
    "id": "4YhavUjtwUcJ"
   },
   "outputs": [],
   "source": [
    "from tqdm import tqdm\n",
    "def transform(dataset,vocab):\n",
    "    rows = []\n",
    "    columns = []\n",
    "    values = []\n",
    "    if isinstance(dataset, (list,)):\n",
    "        for idx, row in enumerate(tqdm(dataset)):\n",
    "            word_freq = dict(Counter(row.split()))\n",
    "            for word, freq in word_freq.items():                \n",
    "                if len(word) < 2:\n",
    "                    continue\n",
    "                col_index = vocab.get(word, -1)\n",
    "                if col_index !=-1:\n",
    "                    rows.append(idx)\n",
    "                    columns.append(col_index)\n",
    "                    values.append(freq)\n",
    "        return csr_matrix((values, (rows,columns)), shape=(len(dataset),len(vocab)))"
   ]
  },
  {
   "cell_type": "code",
   "execution_count": null,
   "metadata": {
    "id": "eN303GemwUcY",
    "outputId": "b4fd4aef-6613-4a83-c2e3-3cc3b182417e"
   },
   "outputs": [
    {
     "name": "stdout",
     "output_type": "stream",
     "text": [
      "['and', 'document', 'first', 'is', 'one', 'second', 'the', 'third', 'this']\n"
     ]
    },
    {
     "name": "stderr",
     "output_type": "stream",
     "text": [
      "100%|████████████████████████████████████████████████████████████████████████████████████████████| 4/4 [00:00<?, ?it/s]\n"
     ]
    },
    {
     "name": "stdout",
     "output_type": "stream",
     "text": [
      "[[0 1 1 1 0 0 1 0 1]\n",
      " [0 2 0 1 0 1 1 0 1]\n",
      " [1 0 0 1 1 0 1 1 1]\n",
      " [0 1 1 1 0 0 1 0 1]]\n"
     ]
    },
    {
     "name": "stderr",
     "output_type": "stream",
     "text": [
      "100%|██████████████████████████████████████████████████████████████████████████████████| 4/4 [00:00<00:00, 4016.57it/s]\n"
     ]
    },
    {
     "name": "stdout",
     "output_type": "stream",
     "text": [
      "(4, 9)\n"
     ]
    }
   ],
   "source": [
    "strings = [\"this is the first document\",\n",
    "           \"this document is the second document\",\n",
    "           \"and this is the third one\",\n",
    "           \"is this the first document\"]\n",
    "        \n",
    "vocab = fit(strings)\n",
    "print(list(vocab.keys()))\n",
    "sparse=transform(strings, vocab).toarray() \n",
    "print(sparse)\n",
    "a=transform(strings, vocab).toarray().shape\n",
    "print(a)"
   ]
  },
  {
   "cell_type": "markdown",
   "metadata": {
    "id": "ybSepK9XwUcs"
   },
   "source": [
    "step 2: finding the tf-idf matrix"
   ]
  },
  {
   "cell_type": "code",
   "execution_count": null,
   "metadata": {
    "id": "NheW3-4hwUcw",
    "outputId": "eb34e73f-6be6-46dd-c8dc-59b943452f0e",
    "scrolled": true
   },
   "outputs": [
    {
     "name": "stdout",
     "output_type": "stream",
     "text": [
      "tfmatrix\n",
      "[[0.0, 0.2, 0.2, 0.2, 0.0, 0.0, 0.2, 0.0, 0.2], [0.0, 0.3333333333333333, 0.0, 0.16666666666666666, 0.0, 0.16666666666666666, 0.16666666666666666, 0.0, 0.16666666666666666], [0.16666666666666666, 0.0, 0.0, 0.16666666666666666, 0.16666666666666666, 0.0, 0.16666666666666666, 0.16666666666666666, 0.16666666666666666], [0.0, 0.2, 0.2, 0.2, 0.0, 0.0, 0.2, 0.0, 0.2]]\n"
     ]
    }
   ],
   "source": [
    "lenstring=[len(i.split()) for i in strings]\n",
    "tfmatrix=[]\n",
    "for i,k in enumerate(sparse):\n",
    "    arr=[]\n",
    "    for j in k:\n",
    "        z=j/lenstring[i]\n",
    "        arr.append(z)\n",
    "    tfmatrix.append(arr)\n",
    "print(\"tfmatrix\")\n",
    "print(tfmatrix)"
   ]
  },
  {
   "cell_type": "code",
   "execution_count": null,
   "metadata": {
    "id": "zvD-8RkCwUdJ",
    "outputId": "7d231665-aa04-4472-8319-f45da872acd8"
   },
   "outputs": [
    {
     "name": "stdout",
     "output_type": "stream",
     "text": [
      "['is', 'this', 'the', 'first', 'document']\n",
      "idf_vector\n",
      "[1.916290731874155, 1.2231435513142097, 1.5108256237659907, 1.0, 1.916290731874155, 1.916290731874155, 1.0, 1.916290731874155, 1.0]\n"
     ]
    }
   ],
   "source": [
    "sortedlist=[]\n",
    "for i,j in vocab.items():\n",
    "    sortedlist.append(i)\n",
    "idf=[]\n",
    "corpus_documents=[[\"this\",\"is\",\"the\",\"first\",\"document\"],[\"this\",\"document\",\"is\",\"the\",\"second\",\"document\"],[\"and\",\"this\",\"is\",\"the\",\"third\",\"one\"],[\"is\",\"this\",\"the\",\"first\",\"document\"]]\n",
    "a=0\n",
    "for i in sortedlist:\n",
    "    a=0\n",
    "    for j in corpus_documents:\n",
    "        if i in j:\n",
    "            a+=1\n",
    "    idf.append(1+math.log((1+len(corpus_documents))/(1+a)))\n",
    "print(\"idf_vector\")\n",
    "print(idf)"
   ]
  },
  {
   "cell_type": "code",
   "execution_count": null,
   "metadata": {
    "id": "Nq8am1bdwUdc",
    "outputId": "47cb174e-e6ac-4657-df32-d69ca924d721"
   },
   "outputs": [
    {
     "name": "stdout",
     "output_type": "stream",
     "text": [
      "tf-idfmatrix\n",
      "[[0.0, 0.24462871026284194, 0.3021651247531982, 0.2, 0.0, 0.0, 0.2, 0.0, 0.2], [0.0, 0.40771451710473655, 0.0, 0.16666666666666666, 0.0, 0.3193817886456925, 0.16666666666666666, 0.0, 0.16666666666666666], [0.3193817886456925, 0.0, 0.0, 0.16666666666666666, 0.3193817886456925, 0.0, 0.16666666666666666, 0.3193817886456925, 0.16666666666666666], [0.0, 0.24462871026284194, 0.3021651247531982, 0.2, 0.0, 0.0, 0.2, 0.0, 0.2]]\n"
     ]
    }
   ],
   "source": [
    "c=[]\n",
    "for i in tfmatrix:\n",
    "    b=[]\n",
    "    for j,k in enumerate(i):\n",
    "        a=k*idf[j]\n",
    "        b.append(a)\n",
    "    c.append(b)\n",
    "print(\"tf-idfmatrix\")\n",
    "print(c)"
   ]
  },
  {
   "cell_type": "markdown",
   "metadata": {
    "id": "u6OJZMN0wUeA"
   },
   "source": [
    "step 3: Applying l2 normalization:"
   ]
  },
  {
   "cell_type": "code",
   "execution_count": null,
   "metadata": {
    "id": "7ye-M0WNwUeC",
    "outputId": "07af1bad-caa2-49f1-a06f-76a36b7aef4e"
   },
   "outputs": [
    {
     "name": "stdout",
     "output_type": "stream",
     "text": [
      "[[0.         0.46979139 0.58028582 0.38408524 0.         0.\n",
      "  0.38408524 0.         0.38408524]\n",
      " [0.         0.6876236  0.         0.28108867 0.         0.53864762\n",
      "  0.28108867 0.         0.28108867]\n",
      " [0.51184851 0.         0.         0.26710379 0.51184851 0.\n",
      "  0.26710379 0.51184851 0.26710379]\n",
      " [0.         0.46979139 0.58028582 0.38408524 0.         0.\n",
      "  0.38408524 0.         0.38408524]]\n"
     ]
    }
   ],
   "source": [
    "tfidf=normalize(c,norm='l2',axis=1)\n",
    "print(tfidf)"
   ]
  },
  {
   "cell_type": "code",
   "execution_count": null,
   "metadata": {
    "id": "u4dhc_DHwUeU",
    "outputId": "019c59c2-faf6-49e9-b8f6-3cd1dc3a6ed4"
   },
   "outputs": [
    {
     "data": {
      "text/plain": [
       "array([0.        , 0.46979139, 0.58028582, 0.38408524, 0.        ,\n",
       "       0.        , 0.38408524, 0.        , 0.38408524])"
      ]
     },
     "execution_count": 12,
     "metadata": {
      "tags": []
     },
     "output_type": "execute_result"
    }
   ],
   "source": [
    "tfidf[0]"
   ]
  },
  {
   "cell_type": "markdown",
   "metadata": {
    "id": "51j_OtqAxLjL"
   },
   "source": [
    "<font face='georgia'>\n",
    "    <h4><strong>2. Implement max features functionality:</strong></h4>\n",
    "\n",
    "<ul>\n",
    "    <li> As a part of this task you have to modify your fit and transform functions so that your vocab will contain only 50 terms with top idf scores.</li>\n",
    "    <br>\n",
    "    <li>This task is similar to your previous task, just that here your vocabulary is limited to only top 50 features names based on their idf values. Basically your output will have exactly 50 columns and the number of rows will depend on the number of documents you have in your corpus.</li>\n",
    "    <br>\n",
    "    <li>Here you will be give a pickle file, with file name <strong>cleaned_strings</strong>. You would have to load the corpus from this file and use it as input to your tfidf vectorizer.</li>\n",
    "    <br>\n",
    "    <li>Steps to approach this task:\n",
    "    <ol>\n",
    "        <li> You would have to write both fit and transform methods for your custom implementation of tfidf vectorizer, just like in the previous task. Additionally, here you have to limit the number of features generated to 50 as described above.</li>\n",
    "        <li> Now sort your vocab based in descending order of idf values and print out the words in the sorted voacb after you fit your data. Here you should be getting only 50 terms in your vocab. And make sure to print idf values for each term in your vocab. </li>\n",
    "        <li> Make sure the output of your implementation is a sparse matrix. Before generating the final output, you need to normalize your sparse matrix using L2 normalization. You can refer to this link https://scikit-learn.org/stable/modules/generated/sklearn.preprocessing.normalize.html </li>\n",
    "        <li> Now check the output of a single document in your collection of documents,  you can convert the sparse matrix related only to that document into dense matrix and print it. And this dense matrix should contain 1 row and 50 columns. </li>\n",
    "        </ol>\n",
    "    </li>\n",
    "    <br>\n",
    "   </ul>"
   ]
  },
  {
   "cell_type": "code",
   "execution_count": null,
   "metadata": {
    "id": "NHxPLlwNxLjL",
    "outputId": "9abd8e08-0e24-4975-9a13-4d3636d60323"
   },
   "outputs": [
    {
     "name": "stdout",
     "output_type": "stream",
     "text": [
      "Number of documents in corpus =  746\n"
     ]
    }
   ],
   "source": [
    "from collections import Counter\n",
    "from scipy.sparse import csr_matrix\n",
    "import math\n",
    "import operator\n",
    "from sklearn.preprocessing import normalize\n",
    "import numpy\n",
    "import pickle\n",
    "with open('cleaned_strings', 'rb') as f:\n",
    "    corpus_pickle = pickle.load(f)\n",
    "    \n",
    "# printing the length of the corpus loaded\n",
    "print(\"Number of documents in corpus = \",len(corpus_pickle))"
   ]
  },
  {
   "cell_type": "markdown",
   "metadata": {
    "id": "a2kK5ppewUfF"
   },
   "source": [
    "step1: viewing the whole corpus unique word by general fit method"
   ]
  },
  {
   "cell_type": "code",
   "execution_count": null,
   "metadata": {
    "id": "BDJaMbZuwUfI"
   },
   "outputs": [],
   "source": [
    "from tqdm import tqdm \n",
    "def fit(dataset):    \n",
    "    unique_words = set() \n",
    "    if isinstance(dataset, (list,)):\n",
    "        for row in dataset: \n",
    "            for word in row.split(\" \"): \n",
    "                if len(word) < 2:\n",
    "                    continue\n",
    "                unique_words.add(word)\n",
    "        unique_words = sorted(list(unique_words))\n",
    "        vocab = {j:i for i,j in enumerate(unique_words)}\n",
    "        return vocab\n",
    "    else:\n",
    "        print(\"you need to pass list of sentance\")\n",
    "vocab = fit(corpus_pickle)"
   ]
  },
  {
   "cell_type": "markdown",
   "metadata": {
    "id": "3YlWz4t4wUfX"
   },
   "source": [
    "step 2:Modifying the fit method and taking of top 50 idf value of unique words in the whole unique words in corpus_pickle"
   ]
  },
  {
   "cell_type": "code",
   "execution_count": null,
   "metadata": {
    "id": "yLMH6PL2wUfa",
    "outputId": "0baadab5-6cf0-4dc9-eb09-629ef4582033",
    "scrolled": true
   },
   "outputs": [
    {
     "name": "stdout",
     "output_type": "stream",
     "text": [
      "\n",
      "\n",
      "top 50 idf vocab\n",
      "['zombiez', 'zillion', 'yun', 'youtube', 'youthful', 'younger', 'yelps', 'yawn', 'yardley', 'wrote', 'writers', 'wrap', 'wow', 'woven', 'wouldnt', 'worthwhile', 'worthless', 'worry', 'worked', 'wont', 'wong', 'wondered', 'woa', 'witticisms', 'within', 'wily', 'willie', 'william', 'wild', 'wih', 'wife', 'widmark', 'wide', 'whoever', 'whites', 'whine', 'whenever', 'went', 'welsh', 'weight', 'wedding', 'website', 'weaving', 'weariness', 'weaker', 'wayne', 'waylaid', 'wave', 'wasting', 'waster']\n",
      "50\n",
      "\n",
      "\n",
      "idf value of the vocab\n",
      "[6.922918004572872, 6.922918004572872, 6.922918004572872, 6.922918004572872, 6.922918004572872, 6.922918004572872, 6.922918004572872, 6.922918004572872, 6.922918004572872, 6.922918004572872, 6.922918004572872, 6.922918004572872, 6.922918004572872, 6.922918004572872, 6.922918004572872, 6.922918004572872, 6.922918004572872, 6.922918004572872, 6.922918004572872, 6.922918004572872, 6.922918004572872, 6.922918004572872, 6.922918004572872, 6.922918004572872, 6.922918004572872, 6.922918004572872, 6.922918004572872, 6.922918004572872, 6.922918004572872, 6.922918004572872, 6.922918004572872, 6.922918004572872, 6.922918004572872, 6.922918004572872, 6.922918004572872, 6.922918004572872, 6.922918004572872, 6.922918004572872, 6.922918004572872, 6.922918004572872, 6.922918004572872, 6.922918004572872, 6.922918004572872, 6.922918004572872, 6.922918004572872, 6.922918004572872, 6.922918004572872, 6.922918004572872, 6.922918004572872, 6.922918004572872]\n",
      "50\n"
     ]
    }
   ],
   "source": [
    "sortedlist=[]\n",
    "for i,j in vocab.items():\n",
    "    sortedlist.append(i)\n",
    "idf=[]\n",
    "a=0\n",
    "for i in corpus_pickle:\n",
    "    a=i.split()\n",
    "for i in sortedlist:\n",
    "    a=0\n",
    "    for j in corpus_pickle:\n",
    "        if i in j:\n",
    "            a+=1\n",
    "    idf.append(1+math.log((1+len(corpus_pickle))/(1+a)))\n",
    "q=[]\n",
    "for i in zip(idf,sortedlist):\n",
    "    q.append(i)\n",
    "q.sort(reverse=True)\n",
    "x=q[0:50]\n",
    "s=[]\n",
    "v=[]\n",
    "for i in x:\n",
    "    for j in range(1):\n",
    "        s.append(i[1])\n",
    "        v.append(i[0])\n",
    "print(\"\\n\")\n",
    "print(\"top 50 idf vocab\")\n",
    "print(s)\n",
    "print(len(s))\n",
    "print(\"\\n\")\n",
    "print(\"idf value of the vocab\")\n",
    "print(v)\n",
    "print(len(v))\n",
    "    "
   ]
  },
  {
   "cell_type": "markdown",
   "metadata": {
    "id": "x2htIC-ywUfw"
   },
   "source": [
    "step 3:genearting the sparse matrix and tranform method"
   ]
  },
  {
   "cell_type": "code",
   "execution_count": null,
   "metadata": {
    "id": "kaoK1QLxwUfz"
   },
   "outputs": [],
   "source": [
    "tf=[]\n",
    "for k in corpus_pickle:\n",
    "    temp=[]\n",
    "    for i in s:\n",
    "        cnt=0\n",
    "        words=k.split()\n",
    "        for j in words:\n",
    "            if i == j:\n",
    "                cnt+=1\n",
    "        temp.append(cnt)\n",
    "    tf.append(temp)"
   ]
  },
  {
   "cell_type": "code",
   "execution_count": null,
   "metadata": {
    "id": "Hq9cWCSswUgK",
    "outputId": "105e10e1-b4dd-4a85-ede7-71d1966a90ed"
   },
   "outputs": [
    {
     "data": {
      "text/plain": [
       "746"
      ]
     },
     "execution_count": 9,
     "metadata": {
      "tags": []
     },
     "output_type": "execute_result"
    }
   ],
   "source": [
    "len(tf)"
   ]
  },
  {
   "cell_type": "code",
   "execution_count": null,
   "metadata": {
    "id": "PD61E8RfwUg1",
    "outputId": "1728505b-f97e-44a3-9a87-487d0f6a6a9f"
   },
   "outputs": [
    {
     "data": {
      "text/plain": [
       "(746, 50)"
      ]
     },
     "execution_count": 10,
     "metadata": {
      "tags": []
     },
     "output_type": "execute_result"
    }
   ],
   "source": [
    "numpy.array(tf).shape"
   ]
  },
  {
   "cell_type": "markdown",
   "metadata": {
    "id": "W9O-zcS7wUhj"
   },
   "source": [
    "step 4: generating tfmatrix:"
   ]
  },
  {
   "cell_type": "code",
   "execution_count": null,
   "metadata": {
    "id": "18gfhiDZwUhl",
    "scrolled": true
   },
   "outputs": [],
   "source": [
    "lenstring=[len(i.split()) for i in corpus_pickle]\n",
    "tfmatrix=[]\n",
    "for i,k in enumerate(tf):\n",
    "    arr=[]\n",
    "    for j in k:\n",
    "        z=j/lenstring[i]\n",
    "        arr.append(z)\n",
    "    tfmatrix.append(arr)\n",
    "\n"
   ]
  },
  {
   "cell_type": "code",
   "execution_count": null,
   "metadata": {
    "id": "t4NVD2vIwUh5",
    "outputId": "0f119f99-13da-4c2b-8392-e0136de4ab10"
   },
   "outputs": [
    {
     "data": {
      "text/plain": [
       "746"
      ]
     },
     "execution_count": 21,
     "metadata": {
      "tags": []
     },
     "output_type": "execute_result"
    }
   ],
   "source": [
    "len(tfmatrix)"
   ]
  },
  {
   "cell_type": "code",
   "execution_count": null,
   "metadata": {
    "id": "gnXVflYvwUiP",
    "outputId": "b49bef27-e594-48f7-a512-411bbaaeb86a"
   },
   "outputs": [
    {
     "data": {
      "text/plain": [
       "(746, 50)"
      ]
     },
     "execution_count": 22,
     "metadata": {
      "tags": []
     },
     "output_type": "execute_result"
    }
   ],
   "source": [
    "numpy.array(tfmatrix).shape"
   ]
  },
  {
   "cell_type": "markdown",
   "metadata": {
    "id": "VSnz17jTwUie"
   },
   "source": [
    "step5: Generating TF-IDF matrix:"
   ]
  },
  {
   "cell_type": "code",
   "execution_count": null,
   "metadata": {
    "id": "S3uuaPeMwUig",
    "scrolled": true
   },
   "outputs": [],
   "source": [
    "c=[]\n",
    "for i in tfmatrix:\n",
    "    b=[]\n",
    "    for j,k in enumerate(i):\n",
    "        a=k*v[j]\n",
    "        b.append(a)\n",
    "    c.append(b)"
   ]
  },
  {
   "cell_type": "code",
   "execution_count": null,
   "metadata": {
    "id": "oBIXWBuOwUi5",
    "outputId": "65abc295-e2ae-4942-fe59-b47a5cb6f1c4"
   },
   "outputs": [
    {
     "data": {
      "text/plain": [
       "746"
      ]
     },
     "execution_count": 24,
     "metadata": {
      "tags": []
     },
     "output_type": "execute_result"
    }
   ],
   "source": [
    "len(c) "
   ]
  },
  {
   "cell_type": "code",
   "execution_count": null,
   "metadata": {
    "id": "cuDYhnrNwUjO",
    "outputId": "280c0f87-e1e3-4cc5-9c53-dcd68aed3bd8"
   },
   "outputs": [
    {
     "data": {
      "text/plain": [
       "(746, 50)"
      ]
     },
     "execution_count": 25,
     "metadata": {
      "tags": []
     },
     "output_type": "execute_result"
    }
   ],
   "source": [
    "numpy.array(tfmatrix).shape"
   ]
  },
  {
   "cell_type": "markdown",
   "metadata": {
    "id": "C7mCs1QzwUjb"
   },
   "source": [
    "step6:Applying l2 normalization of tf-idf matrix:"
   ]
  },
  {
   "cell_type": "code",
   "execution_count": null,
   "metadata": {
    "id": "-NKVONAkwUje",
    "outputId": "7b595f01-6e85-469f-8f7c-f3f5104f228f"
   },
   "outputs": [
    {
     "name": "stdout",
     "output_type": "stream",
     "text": [
      "[[0. 0. 0. ... 0. 0. 0.]\n",
      " [0. 0. 0. ... 0. 0. 0.]\n",
      " [0. 0. 0. ... 0. 0. 0.]\n",
      " ...\n",
      " [0. 0. 0. ... 0. 0. 0.]\n",
      " [0. 0. 0. ... 0. 0. 0.]\n",
      " [0. 0. 0. ... 0. 0. 0.]]\n"
     ]
    }
   ],
   "source": [
    "tfidf=normalize(c,norm='l2',axis=1)\n",
    "print(tfidf)"
   ]
  },
  {
   "cell_type": "code",
   "execution_count": null,
   "metadata": {
    "id": "sL0uYQYJwUjt",
    "outputId": "29bd3e92-8e26-4d29-e47d-8ff51178508c"
   },
   "outputs": [
    {
     "data": {
      "text/plain": [
       "array([0., 0., 0., 0., 0., 0., 0., 0., 0., 0., 0., 0., 0., 0., 0., 0., 0.,\n",
       "       0., 0., 0., 0., 0., 0., 0., 0., 0., 0., 0., 0., 0., 0., 0., 0., 0.,\n",
       "       0., 0., 0., 0., 0., 0., 0., 0., 0., 0., 0., 0., 0., 0., 0., 0.])"
      ]
     },
     "execution_count": 27,
     "metadata": {
      "tags": []
     },
     "output_type": "execute_result"
    }
   ],
   "source": [
    "tfidf[0] #tfidf matrix of the 0th row after l2 normalization"
   ]
  }
 ],
 "metadata": {
  "colab": {
   "collapsed_sections": [],
   "name": "5-dhilipvasanth@gmail.com_Implementing TFIDF vectorizer.ipynb",
   "provenance": []
  },
  "kernelspec": {
   "display_name": "Python 3",
   "language": "python",
   "name": "python3"
  },
  "language_info": {
   "codemirror_mode": {
    "name": "ipython",
    "version": 3
   },
   "file_extension": ".py",
   "mimetype": "text/x-python",
   "name": "python",
   "nbconvert_exporter": "python",
   "pygments_lexer": "ipython3",
   "version": "3.8.5"
  }
 },
 "nbformat": 4,
 "nbformat_minor": 1
}
